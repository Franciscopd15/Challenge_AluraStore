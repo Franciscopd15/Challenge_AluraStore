{
  "nbformat": 4,
  "nbformat_minor": 0,
  "metadata": {
    "colab": {
      "provenance": [],
      "include_colab_link": true
    },
    "kernelspec": {
      "name": "python3",
      "display_name": "Python 3"
    },
    "language_info": {
      "name": "python"
    }
  },
  "cells": [
    {
      "cell_type": "markdown",
      "metadata": {
        "id": "view-in-github",
        "colab_type": "text"
      },
      "source": [
        "<a href=\"https://colab.research.google.com/github/Franciscopd15/Challenge_AluraStore/blob/main/AluraStoreLatam.ipynb\" target=\"_parent\"><img src=\"https://colab.research.google.com/assets/colab-badge.svg\" alt=\"Open In Colab\"/></a>"
      ]
    },
    {
      "cell_type": "markdown",
      "source": [
        "### Importación de datos\n",
        "\n"
      ],
      "metadata": {
        "id": "RhEdWd9YUR6H"
      }
    },
    {
      "cell_type": "code",
      "execution_count": null,
      "metadata": {
        "id": "T3EvaeQ_INIL"
      },
      "outputs": [],
      "source": [
        "import pandas as pd\n",
        "\n",
        "url = \"https://raw.githubusercontent.com/alura-es-cursos/challenge1-data-science-latam/refs/heads/main/base-de-datos-challenge1-latam/tienda_1%20.csv\"\n",
        "url2 = \"https://raw.githubusercontent.com/alura-es-cursos/challenge1-data-science-latam/refs/heads/main/base-de-datos-challenge1-latam/tienda_2.csv\"\n",
        "url3 = \"https://raw.githubusercontent.com/alura-es-cursos/challenge1-data-science-latam/refs/heads/main/base-de-datos-challenge1-latam/tienda_3.csv\"\n",
        "url4 = \"https://raw.githubusercontent.com/alura-es-cursos/challenge1-data-science-latam/refs/heads/main/base-de-datos-challenge1-latam/tienda_4.csv\"\n",
        "\n",
        "tienda_1 = pd.read_csv(url)\n",
        "tienda_2 = pd.read_csv(url2)\n",
        "tienda_3 = pd.read_csv(url3)\n",
        "tienda_4 = pd.read_csv(url4)\n",
        "\n",
        "\n",
        "print(\"Información cargada con éxito\")"
      ]
    },
    {
      "cell_type": "markdown",
      "source": [
        "#1. Análisis de facturación\n",
        "\n"
      ],
      "metadata": {
        "id": "X62IW3KFUIYm"
      }
    },
    {
      "cell_type": "code",
      "source": [
        "facturacion_tienda_1 = tienda_1[\"Precio\"].sum()\n",
        "facturacion_tienda_2 = tienda_2[\"Precio\"].sum()\n",
        "facturacion_tienda_3 = tienda_3[\"Precio\"].sum()\n",
        "facturacion_tienda_4 = tienda_4[\"Precio\"].sum()\n",
        "\n",
        "print(f\"Facturación de Tienda 1: {round(facturacion_tienda_1,2)} pesos\")\n",
        "print(f\"Facturación de Tienda 2: {round(facturacion_tienda_2,2)} pesos\")\n",
        "print(f\"Facturación de Tienda 3: {round(facturacion_tienda_3,2)} pesos\")\n",
        "print(f\"Facturación de Tienda 4: {round(facturacion_tienda_4,2)} pesos\")"
      ],
      "metadata": {
        "id": "xykobSftV64I"
      },
      "execution_count": null,
      "outputs": []
    },
    {
      "cell_type": "code",
      "source": [
        "df1 = pd.DataFrame()\n",
        "\n",
        "Tiendas = ['Tienda 1', 'Tienda 2', 'Tienda 3', 'Tienda 4']\n",
        "Total_de_Facturación = [facturacion_tienda_1, facturacion_tienda_2, facturacion_tienda_3, facturacion_tienda_4]\n",
        "\n",
        "df1['Tienda'] = Tiendas\n",
        "df1['Total de Facturación'] = Total_de_Facturación\n",
        "print(df1)"
      ],
      "metadata": {
        "id": "MGhUTGJZd4Pt"
      },
      "execution_count": null,
      "outputs": []
    },
    {
      "cell_type": "code",
      "source": [
        "import matplotlib.pyplot as plt\n",
        "x = Tiendas\n",
        "y = Total_de_Facturación\n",
        "\n",
        "plt.bar(x, y)\n",
        "plt.title('Facturación por Tiendas')\n",
        "plt.xlabel('Tiendas')\n",
        "plt.ylabel('Facturación ($)')\n",
        "for i, value in enumerate(y):\n",
        "  plt.text(i, value, str(value), ha='center', va='bottom')\n",
        "\n",
        "plt.show()"
      ],
      "metadata": {
        "id": "oAlpMXBye9TP"
      },
      "execution_count": null,
      "outputs": []
    },
    {
      "cell_type": "markdown",
      "source": [
        "# 2. Ventas por categoría"
      ],
      "metadata": {
        "id": "2V_vcAPzWZmR"
      }
    },
    {
      "cell_type": "markdown",
      "source": [
        "Categoría del Producto\n",
        "* Electrónicos\n",
        "* Muebles\n",
        "* Juguetes\n",
        "* Electrodomésticos\n",
        "* Artículos para el hogar\n",
        "* Deportes y Diversión\n",
        "* Libros\n",
        "* Instrumentos musicales"
      ],
      "metadata": {
        "id": "-ZrVukeOh1bp"
      }
    },
    {
      "cell_type": "markdown",
      "source": [
        "##**Tienda 1**"
      ],
      "metadata": {
        "id": "InYm-5wVikyi"
      }
    },
    {
      "cell_type": "code",
      "source": [
        "#Obtenemos la cantidad vendidad por cada categoría en la Tienda 1\n",
        "cantidad_electronicos_tienda_1 = 0\n",
        "cantidad_muebles_tienda_1 = 0\n",
        "cantidad_juguetes_tienda_1 = 0\n",
        "cantidad_electrodomesticos_tienda_1 = 0\n",
        "cantidad_articulos_para_el_hogar_tienda_1 = 0\n",
        "cantidad_deportes_y_diversion_tienda_1 = 0\n",
        "cantidad_libros_tienda_1 = 0\n",
        "cantidad_instrumentos_musicales_tienda_1 = 0\n",
        "\n",
        "for categoria in tienda_1[\"Categoría del Producto\"]:\n",
        "  if categoria == \"Electrónicos\":\n",
        "    cantidad_electronicos_tienda_1 += 1\n",
        "  elif categoria == \"Muebles\":\n",
        "    cantidad_muebles_tienda_1 += 1\n",
        "  elif categoria == \"Juguetes\":\n",
        "    cantidad_juguetes_tienda_1 += 1\n",
        "  elif categoria == \"Electrodomésticos\":\n",
        "    cantidad_electrodomesticos_tienda_1 += 1\n",
        "  elif categoria == \"Artículos para el hogar\":\n",
        "    cantidad_articulos_para_el_hogar_tienda_1 += 1\n",
        "  elif categoria == \"Deportes y diversión\":\n",
        "    cantidad_deportes_y_diversion_tienda_1 += 1\n",
        "  elif categoria == \"Libros\":\n",
        "    cantidad_libros_tienda_1 += 1\n",
        "  elif categoria == \"Instrumentos musicales\":\n",
        "    cantidad_instrumentos_musicales_tienda_1 += 1"
      ],
      "metadata": {
        "id": "A34YupIuYhfF"
      },
      "execution_count": 26,
      "outputs": []
    },
    {
      "cell_type": "code",
      "source": [
        "#Generamos una tabla con los resultados\n",
        "df2 = pd.DataFrame()\n",
        "\n",
        "Categorias = ['Electrónicos', 'Muebles', 'Juguetes', 'Electrodomésticos',\n",
        "              'Artículos para el hogar', 'Deportes y Diversión', 'Libros',\n",
        "              'Instrumentos musicales']\n",
        "Cantidades_vendidas_tienda_1 = [cantidad_electronicos_tienda_1, cantidad_muebles_tienda_1,\n",
        "                                cantidad_juguetes_tienda_1, cantidad_electrodomesticos_tienda_1,\n",
        "                                cantidad_articulos_para_el_hogar_tienda_1, cantidad_deportes_y_diversion_tienda_1,\n",
        "                                cantidad_libros_tienda_1, cantidad_instrumentos_musicales_tienda_1]\n",
        "\n",
        "df2['Categoría'] = Categorias\n",
        "df2['Cantidad vendida en Tienda 1'] = Cantidades_vendidas_tienda_1\n",
        "print(df2)"
      ],
      "metadata": {
        "id": "yZR6cOjXYSk1"
      },
      "execution_count": null,
      "outputs": []
    },
    {
      "cell_type": "code",
      "source": [
        "#Generamos un gráfico para visualizar\n",
        "\n",
        "#Porcentajes de ventas por categoría\n",
        "total_ventas = sum(Cantidades_vendidas_tienda_1)\n",
        "porcentajes = [cantidad / total_ventas * 100 for cantidad in Cantidades_vendidas_tienda_1]\n",
        "\n",
        "Categorias = ['Electrónicos', 'Muebles', 'Juguetes', 'Electrodomésticos',\n",
        "              'Artículos para el hogar', 'Deportes y Diversión', 'Libros',\n",
        "              'Instrumentos musicales']\n",
        "colors = ['red', 'green', 'blue', 'yellow', 'violet', 'grey', 'orange', 'olive']\n",
        "\n",
        "plt.pie(porcentajes, labels=Categorias, colors=colors, autopct='%1.1f%%', startangle=90)\n",
        "plt.title('Ventas por Categoría en Tienda 1')\n",
        "plt.show()"
      ],
      "metadata": {
        "id": "PA_gADiadiPQ"
      },
      "execution_count": null,
      "outputs": []
    },
    {
      "cell_type": "markdown",
      "source": [
        "## **Tienda 2**"
      ],
      "metadata": {
        "id": "WuybPTGTh4FW"
      }
    },
    {
      "cell_type": "code",
      "source": [
        "#Obtenemos la cantidad vendidad por cada categoría en la Tienda 2\n",
        "cantidad_electronicos_tienda_2 = 0\n",
        "cantidad_muebles_tienda_2 = 0\n",
        "cantidad_juguetes_tienda_2 = 0\n",
        "cantidad_electrodomesticos_tienda_2 = 0\n",
        "cantidad_articulos_para_el_hogar_tienda_2 = 0\n",
        "cantidad_deportes_y_diversion_tienda_2 = 0\n",
        "cantidad_libros_tienda_2 = 0\n",
        "cantidad_instrumentos_musicales_tienda_2 = 0\n",
        "\n",
        "for categoria in tienda_2[\"Categoría del Producto\"]:\n",
        "  if categoria == \"Electrónicos\":\n",
        "    cantidad_electronicos_tienda_2 += 1\n",
        "  elif categoria == \"Muebles\":\n",
        "    cantidad_muebles_tienda_2 += 1\n",
        "  elif categoria == \"Juguetes\":\n",
        "    cantidad_juguetes_tienda_2 += 1\n",
        "  elif categoria == \"Electrodomésticos\":\n",
        "    cantidad_electrodomesticos_tienda_2 += 1\n",
        "  elif categoria == \"Artículos para el hogar\":\n",
        "    cantidad_articulos_para_el_hogar_tienda_2 += 1\n",
        "  elif categoria == \"Deportes y diversión\":\n",
        "    cantidad_deportes_y_diversion_tienda_2 += 1\n",
        "  elif categoria == \"Libros\":\n",
        "    cantidad_libros_tienda_2 += 1\n",
        "  elif categoria == \"Instrumentos musicales\":\n",
        "    cantidad_instrumentos_musicales_tienda_2 += 1"
      ],
      "metadata": {
        "id": "wwtYyOLzh_YH"
      },
      "execution_count": 34,
      "outputs": []
    },
    {
      "cell_type": "code",
      "source": [
        "#Generamos una tabla con los resultados\n",
        "df3 = pd.DataFrame()\n",
        "\n",
        "Cantidades_vendidas_tienda_2 = [cantidad_electronicos_tienda_2, cantidad_muebles_tienda_2,\n",
        "                                cantidad_juguetes_tienda_2, cantidad_electrodomesticos_tienda_2,\n",
        "                                cantidad_articulos_para_el_hogar_tienda_2, cantidad_deportes_y_diversion_tienda_2,\n",
        "                                cantidad_libros_tienda_2, cantidad_instrumentos_musicales_tienda_2]\n",
        "\n",
        "df3['Categoría'] = Categorias\n",
        "df3['Cantidad vendida en Tienda 2'] = Cantidades_vendidas_tienda_2\n",
        "print(df3)"
      ],
      "metadata": {
        "id": "kSYRX9EIiAHD"
      },
      "execution_count": null,
      "outputs": []
    },
    {
      "cell_type": "code",
      "source": [
        "#Generamos un gráfico para visualizar\n",
        "\n",
        "#Porcentajes de ventas por categoría\n",
        "total_ventas_2 = sum(Cantidades_vendidas_tienda_2)\n",
        "porcentajes_2 = [cantidad / total_ventas_2 * 100 for cantidad in Cantidades_vendidas_tienda_2]\n",
        "colors = ['red', 'green', 'blue', 'yellow', 'violet', 'grey', 'orange', 'olive']\n",
        "\n",
        "plt.pie(porcentajes_2, labels=Categorias, colors=colors, autopct='%1.1f%%', startangle=90)\n",
        "plt.title('Ventas por Categoría en Tienda 2')\n",
        "plt.show()"
      ],
      "metadata": {
        "id": "aS66TEu2iAJ9"
      },
      "execution_count": null,
      "outputs": []
    },
    {
      "cell_type": "markdown",
      "source": [
        "## **Tienda 3**"
      ],
      "metadata": {
        "id": "VAfeH0RWjlp7"
      }
    },
    {
      "cell_type": "code",
      "source": [
        "#Obtenemos la cantidad vendidad por cada categoría en la Tienda 3\n",
        "cantidad_electronicos_tienda_3 = 0\n",
        "cantidad_muebles_tienda_3 = 0\n",
        "cantidad_juguetes_tienda_3 = 0\n",
        "cantidad_electrodomesticos_tienda_3 = 0\n",
        "cantidad_articulos_para_el_hogar_tienda_3 = 0\n",
        "cantidad_deportes_y_diversion_tienda_3 = 0\n",
        "cantidad_libros_tienda_3 = 0\n",
        "cantidad_instrumentos_musicales_tienda_3 = 0\n",
        "\n",
        "for categoria in tienda_3[\"Categoría del Producto\"]:\n",
        "  if categoria == \"Electrónicos\":\n",
        "    cantidad_electronicos_tienda_3 += 1\n",
        "  elif categoria == \"Muebles\":\n",
        "    cantidad_muebles_tienda_3 += 1\n",
        "  elif categoria == \"Juguetes\":\n",
        "    cantidad_juguetes_tienda_3 += 1\n",
        "  elif categoria == \"Electrodomésticos\":\n",
        "    cantidad_electrodomesticos_tienda_3 += 1\n",
        "  elif categoria == \"Artículos para el hogar\":\n",
        "    cantidad_articulos_para_el_hogar_tienda_3 += 1\n",
        "  elif categoria == \"Deportes y diversión\":\n",
        "    cantidad_deportes_y_diversion_tienda_3 += 1\n",
        "  elif categoria == \"Libros\":\n",
        "    cantidad_libros_tienda_3 += 1\n",
        "  elif categoria == \"Instrumentos musicales\":\n",
        "    cantidad_instrumentos_musicales_tienda_3 += 1"
      ],
      "metadata": {
        "id": "T5MxMWOkjo5b"
      },
      "execution_count": 40,
      "outputs": []
    },
    {
      "cell_type": "code",
      "source": [
        "#Generamos una tabla con los resultados\n",
        "df4 = pd.DataFrame()\n",
        "\n",
        "Cantidades_vendidas_tienda_3 = [cantidad_electronicos_tienda_3, cantidad_muebles_tienda_3,\n",
        "                                cantidad_juguetes_tienda_3, cantidad_electrodomesticos_tienda_3,\n",
        "                                cantidad_articulos_para_el_hogar_tienda_3, cantidad_deportes_y_diversion_tienda_3,\n",
        "                                cantidad_libros_tienda_3, cantidad_instrumentos_musicales_tienda_3]\n",
        "\n",
        "df4['Categoría'] = Categorias\n",
        "df4['Cantidad vendida en Tienda 3'] = Cantidades_vendidas_tienda_3\n",
        "print(df4)"
      ],
      "metadata": {
        "id": "-SPGLbjSjpXu"
      },
      "execution_count": null,
      "outputs": []
    },
    {
      "cell_type": "code",
      "source": [
        "#Generamos un gráfico para visualizar\n",
        "\n",
        "#Porcentajes de ventas por categoría\n",
        "total_ventas_3 = sum(Cantidades_vendidas_tienda_3)\n",
        "porcentajes_3 = [cantidad / total_ventas_3 * 100 for cantidad in Cantidades_vendidas_tienda_3]\n",
        "colors = ['red', 'green', 'blue', 'yellow', 'violet', 'grey', 'orange', 'olive']\n",
        "\n",
        "plt.pie(porcentajes_3, labels=Categorias, colors=colors, autopct='%1.1f%%', startangle=90)\n",
        "plt.title('Ventas por Categoría en Tienda 3')\n",
        "plt.show()"
      ],
      "metadata": {
        "id": "_DWiM--ujpca"
      },
      "execution_count": null,
      "outputs": []
    },
    {
      "cell_type": "markdown",
      "source": [
        "## **Tienda 4**"
      ],
      "metadata": {
        "id": "ua8y9pHUl55c"
      }
    },
    {
      "cell_type": "code",
      "source": [
        "#Obtenemos la cantidad vendidad por cada categoría en la Tienda 4\n",
        "cantidad_electronicos_tienda_4 = 0\n",
        "cantidad_muebles_tienda_4 = 0\n",
        "cantidad_juguetes_tienda_4 = 0\n",
        "cantidad_electrodomesticos_tienda_4 = 0\n",
        "cantidad_articulos_para_el_hogar_tienda_4 = 0\n",
        "cantidad_deportes_y_diversion_tienda_4 = 0\n",
        "cantidad_libros_tienda_4 = 0\n",
        "cantidad_instrumentos_musicales_tienda_4 = 0\n",
        "\n",
        "for categoria in tienda_4[\"Categoría del Producto\"]:\n",
        "  if categoria == \"Electrónicos\":\n",
        "    cantidad_electronicos_tienda_4 += 1\n",
        "  elif categoria == \"Muebles\":\n",
        "    cantidad_muebles_tienda_4 += 1\n",
        "  elif categoria == \"Juguetes\":\n",
        "    cantidad_juguetes_tienda_4 += 1\n",
        "  elif categoria == \"Electrodomésticos\":\n",
        "    cantidad_electrodomesticos_tienda_4 += 1\n",
        "  elif categoria == \"Artículos para el hogar\":\n",
        "    cantidad_articulos_para_el_hogar_tienda_4 += 1\n",
        "  elif categoria == \"Deportes y diversión\":\n",
        "    cantidad_deportes_y_diversion_tienda_4 += 1\n",
        "  elif categoria == \"Libros\":\n",
        "    cantidad_libros_tienda_4 += 1\n",
        "  elif categoria == \"Instrumentos musicales\":\n",
        "    cantidad_instrumentos_musicales_tienda_4 += 1"
      ],
      "metadata": {
        "id": "7y3d0Dopl8oD"
      },
      "execution_count": 43,
      "outputs": []
    },
    {
      "cell_type": "code",
      "source": [
        "#Generamos una tabla con los resultados\n",
        "df5 = pd.DataFrame()\n",
        "\n",
        "Cantidades_vendidas_tienda_4 = [cantidad_electronicos_tienda_4, cantidad_muebles_tienda_4,\n",
        "                                cantidad_juguetes_tienda_4, cantidad_electrodomesticos_tienda_4,\n",
        "                                cantidad_articulos_para_el_hogar_tienda_4, cantidad_deportes_y_diversion_tienda_4,\n",
        "                                cantidad_libros_tienda_4, cantidad_instrumentos_musicales_tienda_4]\n",
        "\n",
        "df5['Categoría'] = Categorias\n",
        "df5['Cantidad vendida en Tienda 4'] = Cantidades_vendidas_tienda_4\n",
        "print(df5)"
      ],
      "metadata": {
        "id": "zSx9gSgrmd-i"
      },
      "execution_count": null,
      "outputs": []
    },
    {
      "cell_type": "code",
      "source": [
        "#Generamos un gráfico para visualizar\n",
        "\n",
        "#Porcentajes de ventas por categoría\n",
        "total_ventas_4 = sum(Cantidades_vendidas_tienda_4)\n",
        "porcentajes_4 = [cantidad / total_ventas_4 * 100 for cantidad in Cantidades_vendidas_tienda_4]\n",
        "colors = ['red', 'green', 'blue', 'yellow', 'violet', 'grey', 'orange', 'olive']\n",
        "\n",
        "plt.pie(porcentajes_4, labels=Categorias, colors=colors, autopct='%1.1f%%', startangle=90)\n",
        "plt.title('Ventas por Categoría en Tienda 4')\n",
        "plt.show()"
      ],
      "metadata": {
        "id": "4xoONxP2meCu"
      },
      "execution_count": null,
      "outputs": []
    },
    {
      "cell_type": "markdown",
      "source": [
        "# 3. Calificación promedio de la tienda\n"
      ],
      "metadata": {
        "id": "Rq6tU_xSY3jk"
      }
    },
    {
      "cell_type": "code",
      "source": [
        "calificacion_tienda_1 = round((tienda_1[\"Calificación\"].sum())/len(tienda_1[\"Calificación\"]),2)\n",
        "calificacion_tienda_2 = round((tienda_2[\"Calificación\"].sum())/len(tienda_2[\"Calificación\"]),2)\n",
        "calificacion_tienda_3 = round((tienda_3[\"Calificación\"].sum())/len(tienda_3[\"Calificación\"]),2)\n",
        "calificacion_tienda_4 = round((tienda_4[\"Calificación\"].sum())/len(tienda_4[\"Calificación\"]),2)\n",
        "\n",
        "print(f\"Calificación Promedio de Tienda 1: {calificacion_tienda_1}\")\n",
        "print(f\"Calificación Promedio de Tienda 2: {calificacion_tienda_2}\")\n",
        "print(f\"Calificación Promedio de Tienda 3: {calificacion_tienda_3}\")\n",
        "print(f\"Calificación Promedio de Tienda 4: {calificacion_tienda_4}\")"
      ],
      "metadata": {
        "id": "bh3jjjJwY5MU"
      },
      "execution_count": null,
      "outputs": []
    },
    {
      "cell_type": "code",
      "source": [
        "calificaciones = [calificacion_tienda_1, calificacion_tienda_2, calificacion_tienda_3, calificacion_tienda_4]\n",
        "\n",
        "df6 = pd.DataFrame()\n",
        "\n",
        "df6['Tienda'] = Tiendas\n",
        "df6['Calificación Promedio'] = calificaciones\n",
        "print(df6)"
      ],
      "metadata": {
        "id": "I0KkjPoTY88F"
      },
      "execution_count": null,
      "outputs": []
    },
    {
      "cell_type": "code",
      "source": [
        "import matplotlib.pyplot as plt\n",
        "x = Tiendas\n",
        "y = calificaciones\n",
        "colores = ['green', 'blue', 'red', 'orange']\n",
        "plt.bar(x, y, color=colores)\n",
        "plt.title('Calificación Promedio por Tienda')\n",
        "plt.xlabel('Tiendas')\n",
        "plt.ylabel('Calificación Promedio')\n",
        "plt.ylim(0, 5)\n",
        "for i, value in enumerate(y):\n",
        "  plt.text(i, value, str(value), ha='center', va='bottom')\n",
        "\n",
        "plt.show()"
      ],
      "metadata": {
        "id": "ksOBaxEwtC5-"
      },
      "execution_count": null,
      "outputs": []
    },
    {
      "cell_type": "markdown",
      "source": [
        "# 4. Productos más y menos vendidos"
      ],
      "metadata": {
        "id": "DmNp1KPBZCm-"
      }
    },
    {
      "cell_type": "code",
      "source": [
        "producto_vendido = {\n",
        "    'Tienda 1': tienda_1['Producto'],\n",
        "    'Tienda 2': tienda_2['Producto'],\n",
        "    'Tienda 3': tienda_3['Producto'],\n",
        "    'Tienda 4': tienda_4['Producto']\n",
        "    }\n",
        "\n",
        "conteo_por_tienda = {}\n",
        "for tienda, dt in producto_vendido.items():\n",
        "    conteo = dt.value_counts()\n",
        "    conteo_por_tienda[tienda] = conteo\n",
        "\n",
        "for tienda, conteo in conteo_por_tienda.items():\n",
        "  print(f\"Conteo de productos mas vendidos en la {tienda}:\")\n",
        "  print(conteo.head(3))\n",
        "  print(f\"Conteo de productos menos vendidos en la {tienda}:\")\n",
        "  print(conteo.tail(3))"
      ],
      "metadata": {
        "id": "qoyjqijQZHfF",
        "outputId": "ff713fad-3cba-4b95-9c68-f53e5be98a05",
        "colab": {
          "base_uri": "https://localhost:8080/"
        }
      },
      "execution_count": 75,
      "outputs": [
        {
          "output_type": "stream",
          "name": "stdout",
          "text": [
            "Conteo de productos mas vendidos en la Tienda 1:\n",
            "Producto\n",
            "Microondas       60\n",
            "TV LED UHD 4K    60\n",
            "Armario          60\n",
            "Name: count, dtype: int64\n",
            "Conteo de productos menos vendidos en la Tienda 1:\n",
            "Producto\n",
            "Olla de presión              35\n",
            "Auriculares con micrófono    33\n",
            "Celular ABXY                 33\n",
            "Name: count, dtype: int64\n",
            "Conteo de productos mas vendidos en la Tienda 2:\n",
            "Producto\n",
            "Iniciando en programación    65\n",
            "Microondas                   62\n",
            "Batería                      61\n",
            "Name: count, dtype: int64\n",
            "Conteo de productos menos vendidos en la Tienda 2:\n",
            "Producto\n",
            "Mesa de comedor    34\n",
            "Impresora          34\n",
            "Juego de mesa      32\n",
            "Name: count, dtype: int64\n",
            "Conteo de productos mas vendidos en la Tienda 3:\n",
            "Producto\n",
            "Kit de bancas      57\n",
            "Mesa de comedor    56\n",
            "Cama king          56\n",
            "Name: count, dtype: int64\n",
            "Conteo de productos menos vendidos en la Tienda 3:\n",
            "Producto\n",
            "Mochila                    36\n",
            "Microondas                 36\n",
            "Bloques de construcción    35\n",
            "Name: count, dtype: int64\n",
            "Conteo de productos mas vendidos en la Tienda 4:\n",
            "Producto\n",
            "Cama box                   62\n",
            "Cubertería                 59\n",
            "Dashboards con Power BI    56\n",
            "Name: count, dtype: int64\n",
            "Conteo de productos menos vendidos en la Tienda 4:\n",
            "Producto\n",
            "Guitarra acústica     37\n",
            "Armario               34\n",
            "Guitarra eléctrica    33\n",
            "Name: count, dtype: int64\n"
          ]
        }
      ]
    },
    {
      "cell_type": "code",
      "source": [],
      "metadata": {
        "id": "0Sw3sd4IZIGW"
      },
      "execution_count": null,
      "outputs": []
    },
    {
      "cell_type": "markdown",
      "source": [
        "# 5. Envío promedio por tienda"
      ],
      "metadata": {
        "id": "Fl0cGi3bZKqU"
      }
    },
    {
      "cell_type": "code",
      "source": [],
      "metadata": {
        "id": "S2JeaCykZNy9"
      },
      "execution_count": null,
      "outputs": []
    },
    {
      "cell_type": "code",
      "source": [],
      "metadata": {
        "id": "0tSdCie9ZQlt"
      },
      "execution_count": null,
      "outputs": []
    }
  ]
}